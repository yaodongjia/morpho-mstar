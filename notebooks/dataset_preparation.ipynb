{
 "cells": [
  {
   "cell_type": "code",
   "execution_count": 1,
   "metadata": {},
   "outputs": [],
   "source": [
    "import matplotlib.pyplot as plt\n",
    "import pandas as pd\n",
    "import numpy as np\n",
    "import os\n",
    "import sys\n",
    "import shutil\n",
    "\n",
    "from sklearn.model_selection import train_test_split\n",
    "from tqdm import tqdm\n",
    "tqdm.pandas(file=sys.stdout, ascii=True)"
   ]
  },
  {
   "cell_type": "markdown",
   "metadata": {},
   "source": [
    "## 0. Config"
   ]
  },
  {
   "cell_type": "code",
   "execution_count": 2,
   "metadata": {},
   "outputs": [],
   "source": [
    "RANDOM_SEED = 42\n",
    "METADATA_FILE_PATH = '../data/metadata/metadata.tsv'\n",
    "IMAGS_DIR_PATH = '../data/images'\n",
    "RES_SUFFICES = ['69pix', '128pix']\n",
    "\n",
    "PACKAGE_DIR = '../data/export'"
   ]
  },
  {
   "cell_type": "markdown",
   "metadata": {},
   "source": [
    "### 1. Load Data"
   ]
  },
  {
   "cell_type": "code",
   "execution_count": 3,
   "metadata": {},
   "outputs": [
    {
     "name": "stdout",
     "output_type": "stream",
     "text": [
      "(73627, 5)\n"
     ]
    },
    {
     "data": {
      "text/html": [
       "<div>\n",
       "<style scoped>\n",
       "    .dataframe tbody tr th:only-of-type {\n",
       "        vertical-align: middle;\n",
       "    }\n",
       "\n",
       "    .dataframe tbody tr th {\n",
       "        vertical-align: top;\n",
       "    }\n",
       "\n",
       "    .dataframe thead th {\n",
       "        text-align: right;\n",
       "    }\n",
       "</style>\n",
       "<table border=\"1\" class=\"dataframe\">\n",
       "  <thead>\n",
       "    <tr style=\"text-align: right;\">\n",
       "      <th></th>\n",
       "      <th>SDSS_ID</th>\n",
       "      <th>M/L</th>\n",
       "      <th>L_g</th>\n",
       "      <th>distance_Mpc</th>\n",
       "      <th>galsize_kpc</th>\n",
       "    </tr>\n",
       "  </thead>\n",
       "  <tbody>\n",
       "    <tr>\n",
       "      <th>0</th>\n",
       "      <td>1237662301367173202</td>\n",
       "      <td>2.398229</td>\n",
       "      <td>8.880467e+09</td>\n",
       "      <td>326.142854</td>\n",
       "      <td>48.655727</td>\n",
       "    </tr>\n",
       "    <tr>\n",
       "      <th>1</th>\n",
       "      <td>1237662301905813735</td>\n",
       "      <td>0.974585</td>\n",
       "      <td>7.007162e+09</td>\n",
       "      <td>293.571417</td>\n",
       "      <td>38.145197</td>\n",
       "    </tr>\n",
       "    <tr>\n",
       "      <th>2</th>\n",
       "      <td>1237662534360301834</td>\n",
       "      <td>0.678322</td>\n",
       "      <td>1.047446e+10</td>\n",
       "      <td>167.142861</td>\n",
       "      <td>30.677076</td>\n",
       "    </tr>\n",
       "  </tbody>\n",
       "</table>\n",
       "</div>"
      ],
      "text/plain": [
       "               SDSS_ID       M/L           L_g  distance_Mpc  galsize_kpc\n",
       "0  1237662301367173202  2.398229  8.880467e+09    326.142854    48.655727\n",
       "1  1237662301905813735  0.974585  7.007162e+09    293.571417    38.145197\n",
       "2  1237662534360301834  0.678322  1.047446e+10    167.142861    30.677076"
      ]
     },
     "execution_count": 3,
     "metadata": {},
     "output_type": "execute_result"
    }
   ],
   "source": [
    "# Metadata file\n",
    "metadata = pd.read_csv(METADATA_FILE_PATH, sep='\\t')\n",
    "print(metadata.shape)\n",
    "metadata.head(3)"
   ]
  },
  {
   "cell_type": "code",
   "execution_count": 4,
   "metadata": {},
   "outputs": [
    {
     "data": {
      "text/html": [
       "<div>\n",
       "<style scoped>\n",
       "    .dataframe tbody tr th:only-of-type {\n",
       "        vertical-align: middle;\n",
       "    }\n",
       "\n",
       "    .dataframe tbody tr th {\n",
       "        vertical-align: top;\n",
       "    }\n",
       "\n",
       "    .dataframe thead th {\n",
       "        text-align: right;\n",
       "    }\n",
       "</style>\n",
       "<table border=\"1\" class=\"dataframe\">\n",
       "  <thead>\n",
       "    <tr style=\"text-align: right;\">\n",
       "      <th></th>\n",
       "      <th>SDSS_ID</th>\n",
       "      <th>image_name</th>\n",
       "    </tr>\n",
       "  </thead>\n",
       "  <tbody>\n",
       "    <tr>\n",
       "      <th>0</th>\n",
       "      <td>1237645879578460255</td>\n",
       "      <td>1237645879578460255.png</td>\n",
       "    </tr>\n",
       "    <tr>\n",
       "      <th>1</th>\n",
       "      <td>1237645941824356443</td>\n",
       "      <td>1237645941824356443.png</td>\n",
       "    </tr>\n",
       "    <tr>\n",
       "      <th>2</th>\n",
       "      <td>1237645943974396134</td>\n",
       "      <td>1237645943974396134.png</td>\n",
       "    </tr>\n",
       "  </tbody>\n",
       "</table>\n",
       "</div>"
      ],
      "text/plain": [
       "               SDSS_ID               image_name\n",
       "0  1237645879578460255  1237645879578460255.png\n",
       "1  1237645941824356443  1237645941824356443.png\n",
       "2  1237645943974396134  1237645943974396134.png"
      ]
     },
     "execution_count": 4,
     "metadata": {},
     "output_type": "execute_result"
    }
   ],
   "source": [
    "# images\n",
    "IMAGES_128PX_DIR_PATH = IMAGS_DIR_PATH + '/' + RES_SUFFICES[1]\n",
    "image_file_names = os.listdir(IMAGES_128PX_DIR_PATH)\n",
    "image_file_paths = [IMAGES_128PX_DIR_PATH + '/' + path for path in image_file_names]\n",
    "image_ids = [int(name.split('.')[0]) for name in image_file_names]\n",
    "image_path_df = pd.DataFrame({'SDSS_ID': image_ids, 'image_name': image_file_names})\n",
    "image_path_df.head(3)"
   ]
  },
  {
   "cell_type": "code",
   "execution_count": 5,
   "metadata": {},
   "outputs": [
    {
     "data": {
      "text/html": [
       "<div>\n",
       "<style scoped>\n",
       "    .dataframe tbody tr th:only-of-type {\n",
       "        vertical-align: middle;\n",
       "    }\n",
       "\n",
       "    .dataframe tbody tr th {\n",
       "        vertical-align: top;\n",
       "    }\n",
       "\n",
       "    .dataframe thead th {\n",
       "        text-align: right;\n",
       "    }\n",
       "</style>\n",
       "<table border=\"1\" class=\"dataframe\">\n",
       "  <thead>\n",
       "    <tr style=\"text-align: right;\">\n",
       "      <th></th>\n",
       "      <th>SDSS_ID</th>\n",
       "      <th>M/L</th>\n",
       "      <th>L_g</th>\n",
       "      <th>distance_Mpc</th>\n",
       "      <th>galsize_kpc</th>\n",
       "      <th>image_name</th>\n",
       "    </tr>\n",
       "  </thead>\n",
       "  <tbody>\n",
       "    <tr>\n",
       "      <th>0</th>\n",
       "      <td>1237662301367173202</td>\n",
       "      <td>2.398229</td>\n",
       "      <td>8.880467e+09</td>\n",
       "      <td>326.142854</td>\n",
       "      <td>48.655727</td>\n",
       "      <td>1237662301367173202.png</td>\n",
       "    </tr>\n",
       "    <tr>\n",
       "      <th>1</th>\n",
       "      <td>1237662301905813735</td>\n",
       "      <td>0.974585</td>\n",
       "      <td>7.007162e+09</td>\n",
       "      <td>293.571417</td>\n",
       "      <td>38.145197</td>\n",
       "      <td>1237662301905813735.png</td>\n",
       "    </tr>\n",
       "    <tr>\n",
       "      <th>2</th>\n",
       "      <td>1237662534360301834</td>\n",
       "      <td>0.678322</td>\n",
       "      <td>1.047446e+10</td>\n",
       "      <td>167.142861</td>\n",
       "      <td>30.677076</td>\n",
       "      <td>1237662534360301834.png</td>\n",
       "    </tr>\n",
       "  </tbody>\n",
       "</table>\n",
       "</div>"
      ],
      "text/plain": [
       "               SDSS_ID       M/L           L_g  distance_Mpc  galsize_kpc  \\\n",
       "0  1237662301367173202  2.398229  8.880467e+09    326.142854    48.655727   \n",
       "1  1237662301905813735  0.974585  7.007162e+09    293.571417    38.145197   \n",
       "2  1237662534360301834  0.678322  1.047446e+10    167.142861    30.677076   \n",
       "\n",
       "                image_name  \n",
       "0  1237662301367173202.png  \n",
       "1  1237662301905813735.png  \n",
       "2  1237662534360301834.png  "
      ]
     },
     "execution_count": 5,
     "metadata": {},
     "output_type": "execute_result"
    }
   ],
   "source": [
    "# Merge data\n",
    "metadata = pd.merge(left=metadata, right=image_path_df, how='left', on='SDSS_ID')\n",
    "metadata.head(3)"
   ]
  },
  {
   "cell_type": "code",
   "execution_count": 6,
   "metadata": {},
   "outputs": [],
   "source": [
    "# Shuffle data\n",
    "metadata = metadata.sample(metadata.shape[0], replace=False)"
   ]
  },
  {
   "cell_type": "code",
   "execution_count": 7,
   "metadata": {},
   "outputs": [],
   "source": [
    "# Check nan\n",
    "assert pd.isna(metadata).sum().sum() == 0"
   ]
  },
  {
   "cell_type": "markdown",
   "metadata": {},
   "source": [
    "## 2. Split train, test_public and test_private\n",
    "\n",
    "train(70%), test_public(10%), test_private(20%)"
   ]
  },
  {
   "cell_type": "code",
   "execution_count": 8,
   "metadata": {},
   "outputs": [
    {
     "name": "stdout",
     "output_type": "stream",
     "text": [
      "train_size: 51538\n",
      "test_public_size: 7362\n",
      "test_private_size: 14727\n"
     ]
    }
   ],
   "source": [
    "# Define sample size\n",
    "n_size = metadata.shape[0]\n",
    "train_size = int(n_size * 0.7)\n",
    "test_public_size = int(n_size * 0.1)\n",
    "test_private_size = n_size - train_size - test_public_size\n",
    "\n",
    "print(f'train_size: {train_size}')\n",
    "print(f'test_public_size: {test_public_size}')\n",
    "print(f'test_private_size: {test_private_size}')"
   ]
  },
  {
   "cell_type": "code",
   "execution_count": 9,
   "metadata": {},
   "outputs": [],
   "source": [
    "# Split id\n",
    "np.random.seed(42)\n",
    "indexer = np.arange(metadata.shape[0])\n",
    "train_indexer, test_inexer = train_test_split(indexer, \n",
    "                                              test_size=(test_public_size + test_private_size),\n",
    "                                              random_state=RANDOM_SEED, \n",
    "                                              shuffle=True)\n",
    "test_public_indexer, test_private_indexer = train_test_split(test_inexer, \n",
    "                                                             test_size=test_private_size,\n",
    "                                                             random_state=RANDOM_SEED, \n",
    "                                                             shuffle=True)\n",
    "\n",
    "# Assert shape match\n",
    "assert len(train_indexer) == train_size\n",
    "assert len(test_public_indexer) == test_public_size\n",
    "assert len(test_private_indexer) == test_private_size"
   ]
  },
  {
   "cell_type": "code",
   "execution_count": 10,
   "metadata": {},
   "outputs": [],
   "source": [
    "# Fetch correpsonding ids\n",
    "train_meta = metadata.iloc[train_indexer, :].reset_index(drop=True)\n",
    "test_public_meta = metadata.iloc[test_public_indexer, :].reset_index(drop=True)\n",
    "test_private_meta = metadata.iloc[test_private_indexer, :].reset_index(drop=True)"
   ]
  },
  {
   "cell_type": "markdown",
   "metadata": {},
   "source": [
    "## 3. Move & Export files\n",
    "\n",
    "Data released to public:\n",
    "- `train_metadata.tsv` containing true M/L values\n",
    "- `train_images_69pix.zip`\n",
    "- `train_images_128pix.zip`\n",
    "- `test_metadata.tsv` without M/L values\n",
    "- `test_images_69pix.zip`\n",
    "- `test_images_128pix.zip`\n",
    "- `sample_submission.tsv` sample submission file\n",
    "\n",
    "Data used for evaluation:\n",
    "- `evaluation_test_public_metadata.tsv`\n",
    "- `evaluation_test_private_metadata.tsv`"
   ]
  },
  {
   "cell_type": "code",
   "execution_count": 11,
   "metadata": {},
   "outputs": [],
   "source": [
    "# Ensure export directory is created\n",
    "if not os.path.exists(PACKAGE_DIR):\n",
    "    os.makedirs(PACKAGE_DIR)"
   ]
  },
  {
   "cell_type": "markdown",
   "metadata": {},
   "source": [
    "### 3.1. Compile metadata files"
   ]
  },
  {
   "cell_type": "code",
   "execution_count": 12,
   "metadata": {},
   "outputs": [],
   "source": [
    "# Create train metadata file\n",
    "train_metadata = train_meta.copy()\n",
    "train_metadata.to_csv(PACKAGE_DIR + '/train_metadata.tsv', sep='\\t', index=False)"
   ]
  },
  {
   "cell_type": "code",
   "execution_count": 13,
   "metadata": {},
   "outputs": [],
   "source": [
    "# Create public metadata for test datasets\n",
    "test_metadata = pd.concat([test_public_meta, test_private_meta], axis=0, sort=False)\n",
    "\n",
    "# Shuffle data to prevent guessing of public/private split\n",
    "test_metadata = test_metadata.sample(test_metadata.shape[0], replace=False).reset_index(drop=True)\n",
    "test_metadata = test_metadata.drop(['M/L'], axis=1)\n",
    "\n",
    "test_metadata.to_csv(PACKAGE_DIR + '/test_metadata.tsv', sep='\\t', index=False)"
   ]
  },
  {
   "cell_type": "code",
   "execution_count": 14,
   "metadata": {},
   "outputs": [],
   "source": [
    "# Internal versions for evaluation\n",
    "test_public_meta.to_csv(PACKAGE_DIR + '/evaluation_test_public_metadata.tsv', sep='\\t', index=False)\n",
    "test_private_meta.to_csv(PACKAGE_DIR + '/evaluation_test_private_metadata.tsv', sep='\\t', index=False)"
   ]
  },
  {
   "cell_type": "markdown",
   "metadata": {},
   "source": [
    "### 3.2. Copy image files"
   ]
  },
  {
   "cell_type": "code",
   "execution_count": 15,
   "metadata": {},
   "outputs": [],
   "source": [
    "# Create folders if non-existent\n",
    "for folder_prefix in ('train_images_', 'test_images_'):\n",
    "    for res_suffix in RES_SUFFICES:\n",
    "        dir_path = PACKAGE_DIR + '/' + folder_prefix + res_suffix\n",
    "        if not os.path.exists(dir_path):\n",
    "            os.makedirs(dir_path)"
   ]
  },
  {
   "cell_type": "code",
   "execution_count": 16,
   "metadata": {},
   "outputs": [
    {
     "name": "stdout",
     "output_type": "stream",
     "text": [
      "100%|##########################################################################| 51538/51538 [00:39<00:00, 1294.79it/s]\n"
     ]
    }
   ],
   "source": [
    "# Move train images\n",
    "for img_name in tqdm(train_metadata['image_name'].values, file=sys.stdout, ascii=True):\n",
    "    for res_suffix in RES_SUFFICES:\n",
    "        _from = '../data/images/' + res_suffix + '/' + img_name\n",
    "        _to = PACKAGE_DIR + '/train_images_' + res_suffix + '/' + img_name\n",
    "        shutil.copyfile(_from, _to)"
   ]
  },
  {
   "cell_type": "code",
   "execution_count": 17,
   "metadata": {},
   "outputs": [
    {
     "name": "stdout",
     "output_type": "stream",
     "text": [
      "100%|##########################################################################| 22089/22089 [00:18<00:00, 1193.07it/s]\n"
     ]
    }
   ],
   "source": [
    "# Move train images\n",
    "for img_name in tqdm(test_metadata['image_name'].values, file=sys.stdout, ascii=True):\n",
    "    for res_suffix in RES_SUFFICES:\n",
    "        _from = '../data/images/' + res_suffix + '/' + img_name\n",
    "        _to = PACKAGE_DIR + '/test_images_' + res_suffix + '/' + img_name\n",
    "        shutil.copyfile(_from, _to)"
   ]
  },
  {
   "cell_type": "markdown",
   "metadata": {},
   "source": [
    "### 3.3. Create sample submission file"
   ]
  },
  {
   "cell_type": "code",
   "execution_count": 18,
   "metadata": {},
   "outputs": [],
   "source": [
    "# Drop all other columns\n",
    "sample_submission = test_metadata.copy()\n",
    "sample_submission = sample_submission.loc[:, ['SDSS_ID']]\n",
    "sample_submission.loc[:, 'pred_ml'] = 0.0\n",
    "\n",
    "sample_submission.to_csv(PACKAGE_DIR + '/sample_submission.tsv', sep='\\t', index=False)"
   ]
  }
 ],
 "metadata": {
  "kernelspec": {
   "display_name": "astrohack_py36",
   "language": "python",
   "name": "astrohack_py36"
  },
  "language_info": {
   "codemirror_mode": {
    "name": "ipython",
    "version": 3
   },
   "file_extension": ".py",
   "mimetype": "text/x-python",
   "name": "python",
   "nbconvert_exporter": "python",
   "pygments_lexer": "ipython3",
   "version": "3.6.8"
  }
 },
 "nbformat": 4,
 "nbformat_minor": 4
}
